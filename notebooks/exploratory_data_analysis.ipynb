{
 "cells": [
  {
   "cell_type": "code",
   "execution_count": 2,
   "metadata": {},
   "outputs": [
    {
     "name": "stdout",
     "output_type": "stream",
     "text": [
      "[[0.1501565 ]\n",
      " [0.13702703]\n",
      " [0.97462368]\n",
      " [2.4949441 ]\n",
      " [2.30929518]\n",
      " [0.27503824]\n",
      " [0.165133  ]\n",
      " [0.26279104]\n",
      " [0.45380211]\n",
      " [0.62461821]\n",
      " [0.36550657]\n",
      " [0.59684221]\n",
      " [0.13696337]\n",
      " [0.14592463]\n",
      " [1.0328238 ]\n",
      " [0.46058695]\n",
      " [0.25273061]\n",
      " [0.15635991]\n",
      " [0.24503851]\n",
      " [0.5454073 ]\n",
      " [0.54948696]\n",
      " [0.38950745]\n",
      " [0.35875085]]\n",
      "(23, 1)\n",
      "[0.1501565  0.13702703 0.97462368 2.4949441  2.30929518 0.27503824\n",
      " 0.165133   0.26279104 0.45380211 0.62461821 0.36550657 0.59684221\n",
      " 0.13696337 0.14592463 1.0328238  0.46058695 0.25273061 0.15635991\n",
      " 0.24503851 0.5454073  0.54948696 0.38950745 0.35875085]\n",
      "2\n",
      "[1 1 1 1 1 1 1 1 1 1 1 1 1 1 1 1 1 1 1 1 1 1 1]\n",
      "(23,)\n",
      "23\n"
     ]
    }
   ],
   "source": [
    "import numpy as np\n",
    "import os\n",
    "import pandas as pd\n",
    "from pathlib import Path\n",
    "\n",
    "PROCESSED_DATA_DIR = os.path.join('..', 'data', 'processed')\n",
    "MODEL_DIR = os.path.join('..', 'models')\n",
    "\n",
    "PROCESSED_DATA_DIR_MODERN = Path('../data/processed')\n",
    "MODEL_DIR_MODERN = Path('../models')\n",
    "\n",
    "features = np.array([])\n",
    "labels = []\n",
    "files = os.listdir(PROCESSED_DATA_DIR)\n",
    "for file in files:  # Iterate over all processed feature files\n",
    "    feature_data = pd.read_csv(os.path.join(PROCESSED_DATA_DIR, file), index_col=0)\n",
    "    features = np.append(features,feature_data.values) \n",
    "    labels.extend([1] * feature_data.shape[0]) # Replace with actual labels in a real use case\n",
    "\n",
    "T,Tc = features,len(files)\n",
    "J,Jc = np.array(labels),len(labels)\n",
    "X = T.reshape(-1,1)\n",
    "\n",
    "print(X)\n",
    "print(X.shape)\n",
    "print(T)\n",
    "print(Tc)\n",
    "print(J)\n",
    "print(J.shape)\n",
    "print(Jc)\n"
   ]
  },
  {
   "cell_type": "code",
   "execution_count": null,
   "metadata": {},
   "outputs": [],
   "source": [
    "c = np.random.rand(23,2)\n",
    "y = np.random.randint(0,2,23)\n",
    "\n",
    "print(c)\n",
    "print(y)\n",
    "\n",
    "# Now train_test_split should work without errors\n",
    "from sklearn.model_selection import train_test_split\n",
    "X_train, X_test, y_train, y_test = train_test_split(c, y, test_size=0.3, random_state=42)\n",
    "\n",
    "print(X_train,X_test, y_train,y_test,)"
   ]
  }
 ],
 "metadata": {
  "kernelspec": {
   "display_name": "env",
   "language": "python",
   "name": "python3"
  },
  "language_info": {
   "codemirror_mode": {
    "name": "ipython",
    "version": 3
   },
   "file_extension": ".py",
   "mimetype": "text/x-python",
   "name": "python",
   "nbconvert_exporter": "python",
   "pygments_lexer": "ipython3",
   "version": "3.10.6"
  }
 },
 "nbformat": 4,
 "nbformat_minor": 2
}
